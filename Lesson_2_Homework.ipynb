{
  "nbformat": 4,
  "nbformat_minor": 0,
  "metadata": {
    "colab": {
      "name": "Lesson 2 Homework",
      "provenance": []
    },
    "kernelspec": {
      "name": "python3",
      "display_name": "Python 3"
    },
    "language_info": {
      "name": "python"
    }
  },
  "cells": [
    {
      "cell_type": "code",
      "metadata": {
        "id": "Lqyusyel3HUP"
      },
      "source": [
        "print('Hello')\n",
        "name=(input('What is your name? Please write only first name and capitalize first letter. No spaces before for after name either. '))\n",
        "\n",
        "if name == 'Sachin':\n",
        "  print('Hi papa. How has your day been so far?')\n",
        "  answer1=(input('How has your day been so far? Please write good or bad, no caps. '))\n",
        "  if answer1 == 'good':\n",
        "    print('Glad to hear that! What are you going to do now?')\n",
        "    answer2=input('What are you going to do now? (Just say what you are going to do, no complete sentence) ')\n",
        "    print('Ok! Well I will leave you so you can',answer2,'Bye!')\n",
        "  elif answer1 == 'bad':\n",
        "    print('So sorry to hear that. What are you going to do now? ')\n",
        "    answer2=input('What are you going to do now? (Just say what you are going to do, no complete sentence) ')\n",
        "    print('Ok! Well I will leave you so you can',answer2,'Bye!')\n",
        "\n",
        "elif name == 'Deepa':\n",
        "  print('Hi mama. How has your day been today?')\n",
        "  answer1=(input('How has your day been so far? Please write good or bad, no caps. '))\n",
        "  if answer1 == 'good':\n",
        "    print('Glad to hear that! What are you going to do now?')\n",
        "    answer2=input('What are you going to do now? (Just say what you are going to do, no complete sentence) ')\n",
        "    print('Ok! Well I will leave you so you can',answer2,'Bye!')\n",
        "  elif answer1 == 'bad':\n",
        "    print('So sorry to hear that. What are you going to do now? ')\n",
        "    answer2=input('What are you going to do now? (Just say what you are going to do, no complete sentence) ')\n",
        "    print('Ok! Well I will leave you so you can',answer2,'Bye!')\n",
        "\n",
        "elif name == 'Tiya':\n",
        "  print('Hi Tiya Didi. How has your day been today?')\n",
        "  answer1=(input('How has your day been so far? Please write good or bad, no caps. '))\n",
        "  if answer1 == 'good':\n",
        "    print('Glad to hear that! What are you going to do now?')\n",
        "    answer2=input('What are you going to do now? (Just say what you are going to do, no complete sentence) ')\n",
        "    print('Ok! Well I will leave you so you can',answer2,'Bye!')\n",
        "  elif answer1 == 'bad':\n",
        "    print('So sorry to hear that. What are you going to do now? ')\n",
        "    answer2=input('What are you going to do now? (Just say what you are going to do, no complete sentence) ')\n",
        "    print('Ok! Well I will leave you so you can',answer2,'Bye!')\n",
        "\n",
        "else:\n",
        "  print('Error you are not one of my family members.')\n",
        "\n",
        "\n",
        "  \n",
        "  \n",
        "\n",
        "\n",
        "\n",
        "\n",
        "\n",
        "\n",
        "\n"
      ],
      "execution_count": null,
      "outputs": []
    },
    {
      "cell_type": "code",
      "metadata": {
        "id": "oAnwzU9G3INw"
      },
      "source": [
        "\n",
        "\n",
        "\n"
      ],
      "execution_count": null,
      "outputs": []
    },
    {
      "cell_type": "code",
      "metadata": {
        "id": "wJ9veHK43kOk"
      },
      "source": [
        ""
      ],
      "execution_count": null,
      "outputs": []
    }
  ]
}